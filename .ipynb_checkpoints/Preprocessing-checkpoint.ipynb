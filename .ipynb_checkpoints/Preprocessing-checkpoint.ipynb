{
 "cells": [
  {
   "cell_type": "code",
   "execution_count": 1,
   "metadata": {},
   "outputs": [],
   "source": [
    "import re\n",
    "import pandas as pd\n",
    "import heapq\n",
    "import csv\n",
    "from IPython.display import clear_output\n",
    "\n",
    "import nltk\n",
    "\n",
    "# import lemmetizer modules\n",
    "from nltk.stem import PorterStemmer\n",
    "stemmer = PorterStemmer()\n",
    "\n",
    "from nltk.tokenize import RegexpTokenizer\n",
    "tokenizer = RegexpTokenizer(r'\\w+')\n",
    "\n",
    "# get set of stopwords\n",
    "from nltk.corpus import stopwords"
   ]
  },
  {
   "cell_type": "code",
   "execution_count": 2,
   "metadata": {
    "scrolled": true
   },
   "outputs": [],
   "source": [
    "# importing train dataset into a dataframe\n",
    "\n",
    "trainDataset = pd.read_csv(\"Dataset/train.csv\")[\"text\"]\n",
    "trainDataset.dropna(inplace = True)\n",
    "trainDataset.reset_index(drop = True, inplace = True)"
   ]
  },
  {
   "cell_type": "code",
   "execution_count": 3,
   "metadata": {},
   "outputs": [],
   "source": [
    "# importing test dataset into a dataframe\n",
    "\n",
    "testDataset = pd.read_csv(\"Dataset/test.csv\")[\"text\"]\n",
    "testDataset.dropna(inplace = True)\n",
    "testDataset.reset_index(drop = True, inplace = True)"
   ]
  },
  {
   "cell_type": "code",
   "execution_count": 4,
   "metadata": {},
   "outputs": [],
   "source": [
    "class BOW:\n",
    "    \n",
    "    def getWordDictionary(self, dataframe):\n",
    "        dictionary = []\n",
    "        \n",
    "        for i, sentence in enumerate(dataframe):\n",
    "            dictionary += tokenizer.tokenize(sentence.lower())\n",
    "                    \n",
    "            clear_output(wait=True)\n",
    "            print(f'Creating Word Frequency: {i + 1}/{len(dataframe)}')\n",
    "                    \n",
    "        clear_output(wait=True)\n",
    "        print(\"Stemming...\")\n",
    "        \n",
    "        dictionary = sorted([stemmer.stem(w.lower()) for w in dictionary if w not in self.stopset])\n",
    "        dictionary = dict.fromkeys(dictionary)\n",
    "        dictionary = {x : i for i, x in enumerate(dictionary.keys())}\n",
    "        \n",
    "        return dictionary\n",
    "    \n",
    "    def createBOW(self, dataframe):\n",
    "        dictionary = self.getWordDictionary(dataframe)\n",
    "        \n",
    "        vectors = []\n",
    "        \n",
    "        for i, sentence in enumerate(dataframe):\n",
    "            sentence = tokenizer.tokenize(sentence.lower())\n",
    "            sentence = sorted([stemmer.stem(w) for w in sentence if w not in self.stopset])\n",
    "            sentence = list(dict.fromkeys(sentence))\n",
    "            \n",
    "            temp = [0] * len(dictionary)\n",
    "            \n",
    "            for word in sentence:\n",
    "                try:\n",
    "                    temp[dictionary[word]] = 1\n",
    "                except:\n",
    "                    continue\n",
    "            \n",
    "            vectors.append(temp)\n",
    "            \n",
    "            clear_output(wait=True)\n",
    "            print(f'Creating Word BOW: {i + 1}/{len(dataframe)}')\n",
    "        \n",
    "        return vectors\n",
    "    \n",
    "    def save(self, filename):\n",
    "        # opening the csv file in 'w+' mode \n",
    "        file = open(f'Dataset/BOW/{filename}.csv', 'w+', newline ='') \n",
    "\n",
    "        # writing the data into the file \n",
    "        with file:     \n",
    "            write = csv.writer(file) \n",
    "            write.writerows(self.data) \n",
    "    \n",
    "    def __init__(self, dataset):\n",
    "        self.stopset = set(stopwords.words('english'))\n",
    "        self.data = self.createBOW(dataset)\n",
    "        "
   ]
  },
  {
   "cell_type": "code",
   "execution_count": 7,
   "metadata": {},
   "outputs": [
    {
     "name": "stdout",
     "output_type": "stream",
     "text": [
      "Creating Word BOW: 5000/5000\n"
     ]
    }
   ],
   "source": [
    "trainBOW = BOW(trainDataset.head(5000))"
   ]
  },
  {
   "cell_type": "code",
   "execution_count": null,
   "metadata": {},
   "outputs": [],
   "source": [
    "testBOW = BOW(testDataset)"
   ]
  },
  {
   "cell_type": "code",
   "execution_count": 9,
   "metadata": {},
   "outputs": [],
   "source": [
    "trainBOW.save('train_bow')"
   ]
  },
  {
   "cell_type": "code",
   "execution_count": null,
   "metadata": {},
   "outputs": [],
   "source": [
    "testBOW.save('test_bow')"
   ]
  }
 ],
 "metadata": {
  "kernelspec": {
   "display_name": "Python 3",
   "language": "python",
   "name": "python3"
  },
  "language_info": {
   "codemirror_mode": {
    "name": "ipython",
    "version": 3
   },
   "file_extension": ".py",
   "mimetype": "text/x-python",
   "name": "python",
   "nbconvert_exporter": "python",
   "pygments_lexer": "ipython3",
   "version": "3.8.3"
  }
 },
 "nbformat": 4,
 "nbformat_minor": 4
}
